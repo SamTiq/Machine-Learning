{
 "cells": [
  {
   "cell_type": "code",
   "execution_count": 10,
   "id": "16132b76-c57e-491c-bcd7-16fdf5dc1915",
   "metadata": {},
   "outputs": [],
   "source": [
    "import numpy as np\n",
    "import pandas as pd\n",
    "import matplotlib.pyplot as plt"
   ]
  },
  {
   "cell_type": "code",
   "execution_count": 14,
   "id": "2623490c-4b8c-4417-aa7e-b196d3459bf1",
   "metadata": {},
   "outputs": [],
   "source": [
    "house_data = pd.read_csv('house.csv')\n",
    "house_data = house_data[house_data['loyer']<10000]"
   ]
  },
  {
   "cell_type": "code",
   "execution_count": 8,
   "id": "428c4921-cbf6-4107-8b38-d65a3f026c11",
   "metadata": {},
   "outputs": [
    {
     "data": {
      "text/html": [
       "<div>\n",
       "<style scoped>\n",
       "    .dataframe tbody tr th:only-of-type {\n",
       "        vertical-align: middle;\n",
       "    }\n",
       "\n",
       "    .dataframe tbody tr th {\n",
       "        vertical-align: top;\n",
       "    }\n",
       "\n",
       "    .dataframe thead th {\n",
       "        text-align: right;\n",
       "    }\n",
       "</style>\n",
       "<table border=\"1\" class=\"dataframe\">\n",
       "  <thead>\n",
       "    <tr style=\"text-align: right;\">\n",
       "      <th></th>\n",
       "      <th>loyer</th>\n",
       "      <th>surface</th>\n",
       "    </tr>\n",
       "  </thead>\n",
       "  <tbody>\n",
       "    <tr>\n",
       "      <th>0</th>\n",
       "      <td>1330</td>\n",
       "      <td>37</td>\n",
       "    </tr>\n",
       "    <tr>\n",
       "      <th>1</th>\n",
       "      <td>1400</td>\n",
       "      <td>32</td>\n",
       "    </tr>\n",
       "    <tr>\n",
       "      <th>2</th>\n",
       "      <td>904</td>\n",
       "      <td>26</td>\n",
       "    </tr>\n",
       "    <tr>\n",
       "      <th>3</th>\n",
       "      <td>955</td>\n",
       "      <td>30</td>\n",
       "    </tr>\n",
       "    <tr>\n",
       "      <th>4</th>\n",
       "      <td>2545</td>\n",
       "      <td>70</td>\n",
       "    </tr>\n",
       "  </tbody>\n",
       "</table>\n",
       "</div>"
      ],
      "text/plain": [
       "   loyer  surface\n",
       "0   1330       37\n",
       "1   1400       32\n",
       "2    904       26\n",
       "3    955       30\n",
       "4   2545       70"
      ]
     },
     "execution_count": 8,
     "metadata": {},
     "output_type": "execute_result"
    }
   ],
   "source": [
    "house_data.head()"
   ]
  },
  {
   "cell_type": "code",
   "execution_count": 15,
   "id": "7ea273f6-6cdd-41e7-86aa-492027908e4b",
   "metadata": {},
   "outputs": [
    {
     "data": {
      "image/png": "[encoded data removed]",
      "text/plain": [
       "<Figure size 432x288 with 1 Axes>"
      ]
     },
     "metadata": {
      "needs_background": "light"
     },
     "output_type": "display_data"
    }
   ],
   "source": [
    "plt.plot(house_data['surface'], house_data['loyer'], 'ro')\n",
    "plt.show()"
   ]
  },
  {
   "cell_type": "code",
   "execution_count": 16,
   "id": "3bacf113-fd3c-4f3a-891e-41d177027005",
   "metadata": {},
   "outputs": [],
   "source": [
    "X_train = np.matrix([np.ones(house_data.shape[0]), house_data['surface']]).T"
   ]
  },
  {
   "cell_type": "code",
   "execution_count": 19,
   "id": "10ee3e3d-04c5-4471-a96d-c78743cdde49",
   "metadata": {},
   "outputs": [],
   "source": [
    "Y_train = np.matrix(house_data['loyer']).T"
   ]
  },
  {
   "cell_type": "code",
   "execution_count": 22,
   "id": "a0775472-0213-454b-9e86-70baf1098b77",
   "metadata": {},
   "outputs": [
    {
     "data": {
      "text/plain": [
       "matrix([[1330],\n",
       "        [1400],\n",
       "        [ 904],\n",
       "        [ 955],\n",
       "        [2545],\n",
       "        [ 970],\n",
       "        [1560],\n",
       "        [1960],\n",
       "        [2000],\n",
       "        [2600]], dtype=int64)"
      ]
     },
     "execution_count": 22,
     "metadata": {},
     "output_type": "execute_result"
    }
   ],
   "source": [
    "Y_train[:10]"
   ]
  },
  {
   "cell_type": "code",
   "execution_count": 24,
   "id": "15615835-51b7-40a8-acf9-985797453e44",
   "metadata": {},
   "outputs": [
    {
     "data": {
      "text/plain": [
       "matrix([[266.45460292],\n",
       "        [ 30.66119596]])"
      ]
     },
     "execution_count": 24,
     "metadata": {},
     "output_type": "execute_result"
    }
   ],
   "source": [
    "theta = np.linalg.inv(X_train.T.dot(X_train)).dot(X_train.T).dot(Y_train)\n",
    "theta"
   ]
  },
  {
   "cell_type": "code",
   "execution_count": 25,
   "id": "9a6d9614-2e65-4f30-89ad-12259386f0ed",
   "metadata": {},
   "outputs": [
    {
     "data": {
      "image/png": "[encoded data removed]",
      "text/plain": [
       "<Figure size 432x288 with 1 Axes>"
      ]
     },
     "metadata": {
      "needs_background": "light"
     },
     "output_type": "display_data"
    }
   ],
   "source": [
    "plt.xlabel('Surface')\n",
    "plt.ylabel('Loyer')\n",
    "\n",
    "plt.plot(house_data['surface'], house_data['loyer'], 'ro', markersize=4)\n",
    "\n",
    "# On affiche la droite entre 0 et 250\n",
    "plt.plot([0,250], [theta.item(0),theta.item(0) + 250 * theta.item(1)], linestyle='--', c='#000000')\n",
    "\n",
    "plt.show()"
   ]
  },
  {
   "cell_type": "code",
   "execution_count": null,
   "id": "ce7af549-574b-4b0e-99a5-6adbe5f966f3",
   "metadata": {},
   "outputs": [],
   "source": []
  }
 ],
 "metadata": {
  "kernelspec": {
   "display_name": "Python 3 (ipykernel)",
   "language": "python",
   "name": "python3"
  },
  "language_info": {
   "codemirror_mode": {
    "name": "ipython",
    "version": 3
   },
   "file_extension": ".py",
   "mimetype": "text/x-python",
   "name": "python",
   "nbconvert_exporter": "python",
   "pygments_lexer": "ipython3",
   "version": "3.9.1"
  }
 },
 "nbformat": 4,
 "nbformat_minor": 5
}
