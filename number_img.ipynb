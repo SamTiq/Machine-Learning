{
 "cells": [
  {
   "cell_type": "code",
   "execution_count": 31,
   "id": "072dc110-6a87-43ec-9e05-debd65bf263c",
   "metadata": {},
   "outputs": [],
   "source": [
    "from sklearn.datasets import fetch_openml\n",
    "import numpy as np\n",
    "import matplotlib.pyplot as plt"
   ]
  },
  {
   "cell_type": "code",
   "execution_count": 4,
   "id": "4e742d10-de77-4b12-89a9-9674d2f06ec1",
   "metadata": {},
   "outputs": [],
   "source": [
    "mnist = fetch_openml('mnist_784', version=1)"
   ]
  },
  {
   "cell_type": "code",
   "execution_count": 5,
   "id": "b60240f1-6d66-4904-aabe-ee3548aa522e",
   "metadata": {},
   "outputs": [
    {
     "name": "stdout",
     "output_type": "stream",
     "text": [
      "(70000, 784)\n",
      "(70000,)\n"
     ]
    }
   ],
   "source": [
    "# Le dataset principal qui contient toutes les images\n",
    "print (mnist.data.shape)\n",
    "\n",
    "# Le vecteur d'annotations associé au dataset (nombre entre 0 et 9)\n",
    "print (mnist.target.shape)"
   ]
  },
  {
   "cell_type": "code",
   "execution_count": 35,
   "id": "7b2d4430-53c7-43d5-84ee-d6f938dddf1b",
   "metadata": {},
   "outputs": [],
   "source": [
    "sample = np.random.randint(70000, size=10000)\n",
    "data = mnist.data.values[sample]\n",
    "target = mnist.target.values[sample]"
   ]
  },
  {
   "cell_type": "code",
   "execution_count": 37,
   "id": "b6aedb16-1086-4294-889f-b07d077efd73",
   "metadata": {},
   "outputs": [],
   "source": [
    "from sklearn.model_selection import train_test_split\n",
    "\n",
    "xtrain, xtest, ytrain, ytest = train_test_split(data, target, train_size=0.8)"
   ]
  },
  {
   "cell_type": "code",
   "execution_count": 106,
   "id": "9d87e2e2-914c-4261-842a-313520783646",
   "metadata": {},
   "outputs": [
    {
     "data": {
      "text/plain": [
       "KNeighborsClassifier(n_neighbors=3)"
      ]
     },
     "execution_count": 106,
     "metadata": {},
     "output_type": "execute_result"
    }
   ],
   "source": [
    "from sklearn import neighbors\n",
    "\n",
    "knn = neighbors.KNeighborsClassifier(n_neighbors=3)\n",
    "knn.fit(xtrain, ytrain)"
   ]
  },
  {
   "cell_type": "code",
   "execution_count": 22,
   "id": "5d4bbb39-a81c-4aa3-a49d-89b617d98dfe",
   "metadata": {},
   "outputs": [
    {
     "data": {
      "text/plain": [
       "array(['2'], dtype=object)"
      ]
     },
     "execution_count": 22,
     "metadata": {},
     "output_type": "execute_result"
    }
   ],
   "source": [
    "knn.predict([xtest[4]])"
   ]
  },
  {
   "cell_type": "code",
   "execution_count": 23,
   "id": "732efe1a-d2f5-45a8-8ba3-424da236ba04",
   "metadata": {},
   "outputs": [
    {
     "data": {
      "text/plain": [
       "'2'"
      ]
     },
     "execution_count": 23,
     "metadata": {},
     "output_type": "execute_result"
    }
   ],
   "source": [
    "ytest[4]"
   ]
  },
  {
   "cell_type": "code",
   "execution_count": 28,
   "id": "8f40e22d-ce6c-436b-b7f1-785fa6a9588f",
   "metadata": {},
   "outputs": [
    {
     "data": {
      "text/plain": [
       "0.922"
      ]
     },
     "execution_count": 28,
     "metadata": {},
     "output_type": "execute_result"
    }
   ],
   "source": [
    "knn.score(xtest, ytest)"
   ]
  },
  {
   "cell_type": "code",
   "execution_count": 39,
   "id": "18ff8081-1ff5-4cd1-aa84-7325bc8986ed",
   "metadata": {},
   "outputs": [
    {
     "data": {
      "image/png": "[encoded data removed]",
      "text/plain": [
       "<Figure size 432x288 with 1 Axes>"
      ]
     },
     "metadata": {
      "needs_background": "light"
     },
     "output_type": "display_data"
    }
   ],
   "source": [
    "errors = []\n",
    "for k in range(1,15):\n",
    "    knn = neighbors.KNeighborsClassifier(k)\n",
    "    errors.append(100*(1 - knn.fit(xtrain, ytrain).score(xtest, ytest)))\n",
    "plt.plot(range(1,15), errors, 'o-')\n",
    "plt.show()"
   ]
  },
  {
   "cell_type": "code",
   "execution_count": 107,
   "id": "1be2218a-30e3-47d5-ba74-aef4b2dce175",
   "metadata": {},
   "outputs": [
    {
     "data": {
      "text/plain": [
       "array(['5'], dtype=object)"
      ]
     },
     "execution_count": 107,
     "metadata": {},
     "output_type": "execute_result"
    }
   ],
   "source": [
    "from PIL import Image\n",
    "\n",
    "an_image = Image.open(\"test/paint_2.jpg\")\n",
    "\n",
    "image_sequence = an_image.getdata()\n",
    "image_array = np.array(image_sequence)\n",
    "\n",
    "\n",
    "image = []\n",
    "for element in image_array:\n",
    "    total = 0\n",
    "    for value in element:\n",
    "        total+=value\n",
    "    image.append(255 - round(total/3))\n",
    "\n",
    "image = np.array(image)\n",
    "\n",
    "knn.predict([image])"
   ]
  },
  {
   "cell_type": "code",
   "execution_count": null,
   "id": "66710ec0-d7dc-43bf-a143-6aafa4fbfb1b",
   "metadata": {},
   "outputs": [],
   "source": []
  },
  {
   "cell_type": "code",
   "execution_count": null,
   "id": "0e1a3dab-44fd-46ad-97da-d794c55ca341",
   "metadata": {},
   "outputs": [],
   "source": []
  },
  {
   "cell_type": "code",
   "execution_count": null,
   "id": "de674ff4-ccab-47c1-a4bb-5f2fc77e8d93",
   "metadata": {},
   "outputs": [],
   "source": []
  }
 ],
 "metadata": {
  "kernelspec": {
   "display_name": "Python 3 (ipykernel)",
   "language": "python",
   "name": "python3"
  },
  "language_info": {
   "codemirror_mode": {
    "name": "ipython",
    "version": 3
   },
   "file_extension": ".py",
   "mimetype": "text/x-python",
   "name": "python",
   "nbconvert_exporter": "python",
   "pygments_lexer": "ipython3",
   "version": "3.9.1"
  }
 },
 "nbformat": 4,
 "nbformat_minor": 5
}
